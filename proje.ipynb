{
 "cells": [
  {
   "cell_type": "code",
   "execution_count": 1,
   "metadata": {
    "execution": {
     "iopub.execute_input": "2021-07-28T15:16:21.824807Z",
     "iopub.status.busy": "2021-07-28T15:16:21.822467Z",
     "iopub.status.idle": "2021-07-28T15:16:21.839304Z",
     "shell.execute_reply": "2021-07-28T15:16:21.838502Z",
     "shell.execute_reply.started": "2021-07-28T15:16:21.824661Z"
    }
   },
   "outputs": [],
   "source": [
    "import numpy as np\n",
    "import matplotlib.pyplot as plt\n",
    "import math\n",
    "import tsplib95\n",
    "import random\n",
    "\n",
    "problem = tsplib95.load(r'./bayg29.tsp')"
   ]
  },
  {
   "cell_type": "markdown",
   "metadata": {},
   "source": [
    "problem uzayi icin gerekli olan degerler"
   ]
  },
  {
   "cell_type": "code",
   "execution_count": 2,
   "metadata": {
    "execution": {
     "iopub.execute_input": "2021-07-28T15:16:21.841570Z",
     "iopub.status.busy": "2021-07-28T15:16:21.840972Z",
     "iopub.status.idle": "2021-07-28T15:16:21.852261Z",
     "shell.execute_reply": "2021-07-28T15:16:21.851392Z",
     "shell.execute_reply.started": "2021-07-28T15:16:21.841507Z"
    }
   },
   "outputs": [],
   "source": [
    "farkli_renk_miktari = len(list(problem.get_nodes()))\n",
    "\n",
    "populasyon_sayisi = 100\n",
    "secilen_birey_sayisi = 20\n",
    "\n",
    "renkler_arasi_zaman_maks = 999999\n",
    "\n",
    "her_jenerasyonda_yeni_birey_sayisi = 100"
   ]
  },
  {
   "cell_type": "code",
   "execution_count": 3,
   "metadata": {},
   "outputs": [],
   "source": [
    "renkler_arasi_zaman = np.zeros((farkli_renk_miktari, farkli_renk_miktari))\n",
    "for i in range(farkli_renk_miktari):\n",
    "    for j in range(farkli_renk_miktari):\n",
    "        renkler_arasi_zaman[i][j] = problem.get_weight(i+1,j+1)\n",
    "        if i == j:\n",
    "            renkler_arasi_zaman[i][j] = renkler_arasi_zaman_maks"
   ]
  },
  {
   "cell_type": "markdown",
   "metadata": {},
   "source": [
    "farkli renkler arasinda gecen sureleri belirleyelim. TSP'ye benzer olması için işlere önce x ve y koordinatları verip, daha sonra uzaklıkları hesaplayalım. (islerin 10'a 10'luk bir kare icinde oldugunu var sayalim)"
   ]
  },
  {
   "cell_type": "markdown",
   "metadata": {},
   "source": [
    "renklerin_koordinatlari = np.random.uniform(0,10,(farkli_renk_miktari, 2))"
   ]
  },
  {
   "cell_type": "markdown",
   "metadata": {
    "execution": {
     "iopub.execute_input": "2021-07-28T15:16:21.854766Z",
     "iopub.status.busy": "2021-07-28T15:16:21.854164Z",
     "iopub.status.idle": "2021-07-28T15:16:21.867634Z",
     "shell.execute_reply": "2021-07-28T15:16:21.866655Z",
     "shell.execute_reply.started": "2021-07-28T15:16:21.854722Z"
    }
   },
   "source": [
    "renkler_arasi_zaman = np.zeros((farkli_renk_miktari, farkli_renk_miktari))\n",
    "\n",
    "for i in range(farkli_renk_miktari):\n",
    "    for j in range(farkli_renk_miktari):\n",
    "        x = abs(renklerin_koordinatlari[i][0]-renklerin_koordinatlari[j][0])\n",
    "        y = abs(renklerin_koordinatlari[i][1]-renklerin_koordinatlari[j][1])\n",
    "        renkler_arasi_zaman[i][j] = math.sqrt(x**2+y**2)\n",
    "        if i == j:\n",
    "            renkler_arasi_zaman[i][i] = 2*renkler_arasi_zaman_maks"
   ]
  },
  {
   "cell_type": "markdown",
   "metadata": {},
   "source": [
    "Genetik algoritma icin degerlerin tanimlanmasi"
   ]
  },
  {
   "cell_type": "code",
   "execution_count": 5,
   "metadata": {
    "execution": {
     "iopub.execute_input": "2021-07-28T15:16:21.869412Z",
     "iopub.status.busy": "2021-07-28T15:16:21.869130Z",
     "iopub.status.idle": "2021-07-28T15:16:21.879480Z",
     "shell.execute_reply": "2021-07-28T15:16:21.878607Z",
     "shell.execute_reply.started": "2021-07-28T15:16:21.869385Z"
    }
   },
   "outputs": [],
   "source": [
    "max_iterasyon = 100\n",
    "\n",
    "max_crossover_olasiligi = 0.8\n",
    "min_crossover_olasiligi = 0.6\n",
    "\n",
    "max_mutasyon_olasiligi = 0.8\n",
    "min_mutasyon_olasiligi = 0.6"
   ]
  },
  {
   "cell_type": "markdown",
   "metadata": {},
   "source": [
    "iterasyon sayisi ilerledikce crossover olasiligi azalip, mutasyon olasiligi artacak"
   ]
  },
  {
   "cell_type": "markdown",
   "metadata": {},
   "source": [
    "Bunu yapmamizin sebebi, ilk iterasyonlarda exploration sonrasinda, buldundugumuz yerleri exploit etme istegimizdir. Crossover yapmak mutasyona gore uzayda bulundugumuz konumu daha fazla degistirecektir"
   ]
  },
  {
   "cell_type": "code",
   "execution_count": 6,
   "metadata": {
    "execution": {
     "iopub.execute_input": "2021-07-28T15:16:21.880930Z",
     "iopub.status.busy": "2021-07-28T15:16:21.880616Z",
     "iopub.status.idle": "2021-07-28T15:16:21.891511Z",
     "shell.execute_reply": "2021-07-28T15:16:21.890493Z",
     "shell.execute_reply.started": "2021-07-28T15:16:21.880882Z"
    }
   },
   "outputs": [],
   "source": [
    "def crossover_olasiligi(iterasyon):\n",
    "    return max_crossover_olasiligi - (max_crossover_olasiligi-min_crossover_olasiligi)*iterasyon/max_iterasyon"
   ]
  },
  {
   "cell_type": "code",
   "execution_count": 7,
   "metadata": {
    "execution": {
     "iopub.execute_input": "2021-07-28T15:16:21.893332Z",
     "iopub.status.busy": "2021-07-28T15:16:21.892753Z",
     "iopub.status.idle": "2021-07-28T15:16:21.903849Z",
     "shell.execute_reply": "2021-07-28T15:16:21.903071Z",
     "shell.execute_reply.started": "2021-07-28T15:16:21.893287Z"
    }
   },
   "outputs": [],
   "source": [
    "def mutasyon_olasiligi(iterasyon):\n",
    "    return min_mutasyon_olasiligi + (max_mutasyon_olasiligi-min_mutasyon_olasiligi)*iterasyon/max_iterasyon\n"
   ]
  },
  {
   "cell_type": "markdown",
   "metadata": {},
   "source": [
    "constructive heuristic modeli ilk populasyonu belirlemek icin kullaniyoruz, bize daha iyi bir initial point veriyor"
   ]
  },
  {
   "cell_type": "code",
   "execution_count": 8,
   "metadata": {
    "execution": {
     "iopub.execute_input": "2021-07-28T15:16:21.905720Z",
     "iopub.status.busy": "2021-07-28T15:16:21.905129Z",
     "iopub.status.idle": "2021-07-28T15:16:21.916690Z",
     "shell.execute_reply": "2021-07-28T15:16:21.915655Z",
     "shell.execute_reply.started": "2021-07-28T15:16:21.905675Z"
    }
   },
   "outputs": [],
   "source": [
    "def greedy_sira():\n",
    "    sira = np.zeros(farkli_renk_miktari)\n",
    "    ilk_renk = np.random.randint(farkli_renk_miktari)\n",
    "    sira[0] = ilk_renk\n",
    "    \n",
    "    greedy_renkler_arasi_zaman = np.copy(renkler_arasi_zaman)\n",
    "    \n",
    "    for i in range(1, farkli_renk_miktari):\n",
    "        sira[i] = np.argmin(greedy_renkler_arasi_zaman[int(sira[i-1])])\n",
    "        greedy_renkler_arasi_zaman[int(sira[i-1]),:] = 2*renkler_arasi_zaman_maks\n",
    "        greedy_renkler_arasi_zaman[:,int(sira[i-1])] = 2*renkler_arasi_zaman_maks\n",
    "    return sira"
   ]
  },
  {
   "cell_type": "markdown",
   "metadata": {},
   "source": [
    "Sirada gecirilen sureyi minimalize etmek istedigimiz icin deger fonksiyonu olarak 1/gecen sure kullandik"
   ]
  },
  {
   "cell_type": "code",
   "execution_count": 9,
   "metadata": {
    "execution": {
     "iopub.execute_input": "2021-07-28T15:16:21.920000Z",
     "iopub.status.busy": "2021-07-28T15:16:21.919384Z",
     "iopub.status.idle": "2021-07-28T15:16:21.933128Z",
     "shell.execute_reply": "2021-07-28T15:16:21.932206Z",
     "shell.execute_reply.started": "2021-07-28T15:16:21.919954Z"
    }
   },
   "outputs": [],
   "source": [
    "def siranin_degeri(sira):\n",
    "    deger = 0\n",
    "    for i in range(farkli_renk_miktari-1):\n",
    "        deger = deger + renkler_arasi_zaman[int(sira[i])][int(sira[i+1])]\n",
    "    return 1/deger"
   ]
  },
  {
   "cell_type": "markdown",
   "metadata": {},
   "source": [
    "en iyi sira degeri"
   ]
  },
  {
   "cell_type": "code",
   "execution_count": 10,
   "metadata": {},
   "outputs": [],
   "source": [
    "def en_iyi_deger(populasyon):\n",
    "    deger = 0\n",
    "    for i in range(len(populasyon)):\n",
    "        if siranin_degeri(populasyon[i]) > deger:\n",
    "            deger = siranin_degeri(populasyon[i])\n",
    "    \n",
    "    return deger\n"
   ]
  },
  {
   "cell_type": "markdown",
   "metadata": {},
   "source": [
    "greedy olarak elde ettigimiz siradan yeni bireyler elde etmek icin 2 Opt algoritmasini kullandik"
   ]
  },
  {
   "cell_type": "code",
   "execution_count": 11,
   "metadata": {
    "execution": {
     "iopub.execute_input": "2021-07-28T15:16:21.935475Z",
     "iopub.status.busy": "2021-07-28T15:16:21.934797Z",
     "iopub.status.idle": "2021-07-28T15:16:21.948268Z",
     "shell.execute_reply": "2021-07-28T15:16:21.946991Z",
     "shell.execute_reply.started": "2021-07-28T15:16:21.935430Z"
    }
   },
   "outputs": [],
   "source": [
    "def twoOptSwap(sira, i, k):\n",
    "    yeni_sira = sira\n",
    "    yeni_sira[i:k+1] = np.flip(sira[i:k+1])\n",
    "    return yeni_sira"
   ]
  },
  {
   "cell_type": "code",
   "execution_count": 12,
   "metadata": {
    "execution": {
     "iopub.execute_input": "2021-07-28T15:16:21.952925Z",
     "iopub.status.busy": "2021-07-28T15:16:21.951667Z",
     "iopub.status.idle": "2021-07-28T15:16:21.961080Z",
     "shell.execute_reply": "2021-07-28T15:16:21.959940Z",
     "shell.execute_reply.started": "2021-07-28T15:16:21.952869Z"
    }
   },
   "outputs": [],
   "source": [
    "def populasyonun_olusturulmasi(sira):\n",
    "    populasyon = np.zeros((populasyon_sayisi, farkli_renk_miktari))\n",
    "    populasyon[0,:] = sira\n",
    "    for i in range(populasyon_sayisi-1):\n",
    "        j = np.random.randint(farkli_renk_miktari)\n",
    "        k = np.random.randint(farkli_renk_miktari)\n",
    "        if j > k:\n",
    "            yeni_sira = twoOptSwap(sira, k, j)\n",
    "        else:\n",
    "            yeni_sira = twoOptSwap(sira, j, k)\n",
    "        populasyon[i+1] = yeni_sira\n",
    "    return populasyon"
   ]
  },
  {
   "cell_type": "markdown",
   "metadata": {},
   "source": [
    "olusturulan populasyondan en iyi bireylerin secilmesi"
   ]
  },
  {
   "cell_type": "code",
   "execution_count": 13,
   "metadata": {
    "execution": {
     "iopub.execute_input": "2021-07-28T15:16:21.963323Z",
     "iopub.status.busy": "2021-07-28T15:16:21.962659Z",
     "iopub.status.idle": "2021-07-28T15:16:21.970711Z",
     "shell.execute_reply": "2021-07-28T15:16:21.969915Z",
     "shell.execute_reply.started": "2021-07-28T15:16:21.963276Z"
    }
   },
   "outputs": [],
   "source": [
    "def en_iyi_bireyler(populasyon, en_iyi_birey_sayisi):\n",
    "    bireylerin_degerleri = np.zeros(len(populasyon))\n",
    "    en_iyi_birey_populasyonu = np.zeros((en_iyi_birey_sayisi, farkli_renk_miktari))\n",
    "    \n",
    "    for i in range(len(populasyon)):\n",
    "        bireylerin_degerleri[i] = siranin_degeri(populasyon[i])\n",
    "    \n",
    "    for i in range(en_iyi_birey_sayisi):\n",
    "        index = np.argmax(bireylerin_degerleri)\n",
    "        en_iyi_birey_populasyonu[i] = populasyon[index]\n",
    "        bireylerin_degerleri[index] = 0\n",
    "    \n",
    "    return en_iyi_birey_populasyonu"
   ]
  },
  {
   "cell_type": "code",
   "execution_count": 14,
   "metadata": {},
   "outputs": [],
   "source": [
    "def en_iyi_birey(populasyon):\n",
    "    deger = 99999\n",
    "    index = 0\n",
    "    for i in range(len(populasyon)):\n",
    "        if siranin_degeri(populasyon[i]) < deger:\n",
    "            index = i\n",
    "    \n",
    "    return populasyon[index]"
   ]
  },
  {
   "cell_type": "markdown",
   "metadata": {},
   "source": [
    "genetic algoritmayi beslemek icin, populasyonumuza random olarak olusturulmus bireyler ekliyoruz"
   ]
  },
  {
   "cell_type": "code",
   "execution_count": 15,
   "metadata": {
    "execution": {
     "iopub.execute_input": "2021-07-28T15:16:21.972367Z",
     "iopub.status.busy": "2021-07-28T15:16:21.971881Z",
     "iopub.status.idle": "2021-07-28T15:16:21.983874Z",
     "shell.execute_reply": "2021-07-28T15:16:21.983140Z",
     "shell.execute_reply.started": "2021-07-28T15:16:21.972336Z"
    }
   },
   "outputs": [],
   "source": [
    "def random_populasyon_olusturulmasi():\n",
    "    populasyon = np.zeros((populasyon_sayisi, farkli_renk_miktari))\n",
    "    base_birey = np.arange(farkli_renk_miktari)\n",
    "    for i in range(populasyon_sayisi):\n",
    "        random.shuffle(base_birey)\n",
    "        populasyon[i] = base_birey\n",
    "    \n",
    "    en_iyi_random_populasyon = en_iyi_bireyler(populasyon, secilen_birey_sayisi)\n",
    "    return en_iyi_random_populasyon"
   ]
  },
  {
   "cell_type": "code",
   "execution_count": 16,
   "metadata": {},
   "outputs": [],
   "source": [
    "def random_greedy_populasyon():\n",
    "    populasyon = greedy_sira()\n",
    "    yeni_populasyon = populasyonun_olusturulmasi(populasyon)\n",
    "    return en_iyi_bireyler(yeni_populasyon, secilen_birey_sayisi)"
   ]
  },
  {
   "cell_type": "markdown",
   "metadata": {},
   "source": [
    "Parentlari rulet yontemi ile belirledik"
   ]
  },
  {
   "cell_type": "code",
   "execution_count": 17,
   "metadata": {
    "execution": {
     "iopub.execute_input": "2021-07-28T15:16:21.985556Z",
     "iopub.status.busy": "2021-07-28T15:16:21.985096Z",
     "iopub.status.idle": "2021-07-28T15:16:22.108142Z",
     "shell.execute_reply": "2021-07-28T15:16:22.106902Z",
     "shell.execute_reply.started": "2021-07-28T15:16:21.985525Z"
    }
   },
   "outputs": [],
   "source": [
    "def ebeveyn_secimi(ebeveynler):\n",
    "    ebeveyn_skorlari = np.zeros(len(ebeveynler))\n",
    "    ebeveyn_skorlari[0] = siranin_degeri(ebeveynler[0])\n",
    "    es = np.zeros(len(ebeveynler))\n",
    "    \n",
    "    for i in range(1, len(ebeveynler)):\n",
    "        ebeveyn_skorlari[i] = ebeveyn_skorlari[i-1] + siranin_degeri(ebeveynler[i])\n",
    "        es[i] = siranin_degeri(ebeveynler[i])\n",
    "        \n",
    "    toplam_skor = ebeveyn_skorlari[-1]\n",
    "    \n",
    "    secim = np.random.uniform(0,toplam_skor)\n",
    "    \n",
    "    for j in range(len(ebeveynler)):\n",
    "        if ebeveyn_skorlari[j] > secim:\n",
    "            return ebeveynler[j]"
   ]
  },
  {
   "cell_type": "markdown",
   "metadata": {},
   "source": [
    "crossover fonksiyonumuz asagidaki gibidir"
   ]
  },
  {
   "cell_type": "code",
   "execution_count": 18,
   "metadata": {
    "execution": {
     "iopub.execute_input": "2021-07-28T15:16:22.109806Z",
     "iopub.status.busy": "2021-07-28T15:16:22.109501Z",
     "iopub.status.idle": "2021-07-28T15:16:22.120527Z",
     "shell.execute_reply": "2021-07-28T15:16:22.119454Z",
     "shell.execute_reply.started": "2021-07-28T15:16:22.109778Z"
    }
   },
   "outputs": [],
   "source": [
    "def crossover(ebeveyn1, ebeveyn2, iterasyon):\n",
    "    yeni_bireyler = np.zeros((2, farkli_renk_miktari))\n",
    "    yeni_bireyler[0] = ebeveyn1\n",
    "    yeni_bireyler[1] = ebeveyn2\n",
    "    \n",
    "    if np.random.uniform(0,1) < crossover_olasiligi(iterasyon):\n",
    "        crossover_noktasi = np.random.randint(farkli_renk_miktari)\n",
    "        \n",
    "        for i in range(crossover_noktasi):\n",
    "            index1 = np.where(yeni_bireyler[0] == ebeveyn2[i])\n",
    "            temp1 = yeni_bireyler[0][index1]\n",
    "            yeni_bireyler[0][index1] = yeni_bireyler[0][i]\n",
    "            yeni_bireyler[0][i] = temp1\n",
    "            \n",
    "            index2 = np.where(yeni_bireyler[1] == ebeveyn1[i])\n",
    "            temp2 = yeni_bireyler[1][index2]\n",
    "            yeni_bireyler[1][index2] = yeni_bireyler[1][i]\n",
    "            yeni_bireyler[1][i] = temp2\n",
    "            \n",
    "    return yeni_bireyler"
   ]
  },
  {
   "cell_type": "code",
   "execution_count": 19,
   "metadata": {
    "execution": {
     "iopub.execute_input": "2021-07-28T15:16:22.123078Z",
     "iopub.status.busy": "2021-07-28T15:16:22.122778Z",
     "iopub.status.idle": "2021-07-28T15:16:22.132034Z",
     "shell.execute_reply": "2021-07-28T15:16:22.131106Z",
     "shell.execute_reply.started": "2021-07-28T15:16:22.123051Z"
    }
   },
   "outputs": [],
   "source": [
    "def mutasyon(birey, iterasyon):\n",
    "    mutasyon_bireyi = np.zeros((1,farkli_renk_miktari))\n",
    "    \n",
    "    if np.random.uniform(0,1) < mutasyon_olasiligi(iterasyon):\n",
    "        index1 = np.random.randint(farkli_renk_miktari)\n",
    "        index2 = np.random.randint(farkli_renk_miktari)\n",
    "        \n",
    "        temp = birey[index1]\n",
    "        birey[index1] = birey[index2]\n",
    "        birey[index2] = temp\n",
    "    \n",
    "    \n",
    "    for i in range(farkli_renk_miktari):\n",
    "        mutasyon_bireyi[0][i] = birey[i]\n",
    "        \n",
    "    return mutasyon_bireyi"
   ]
  },
  {
   "cell_type": "markdown",
   "metadata": {},
   "source": [
    "heuristic method ile baslangic populasyonunun olusturulmasi"
   ]
  },
  {
   "cell_type": "code",
   "execution_count": 20,
   "metadata": {
    "execution": {
     "iopub.execute_input": "2021-07-28T15:16:22.133829Z",
     "iopub.status.busy": "2021-07-28T15:16:22.133541Z",
     "iopub.status.idle": "2021-07-28T15:16:22.147689Z",
     "shell.execute_reply": "2021-07-28T15:16:22.146622Z",
     "shell.execute_reply.started": "2021-07-28T15:16:22.133802Z"
    }
   },
   "outputs": [],
   "source": [
    "iterasyon = 1"
   ]
  },
  {
   "cell_type": "code",
   "execution_count": 21,
   "metadata": {
    "execution": {
     "iopub.execute_input": "2021-07-28T15:16:22.149485Z",
     "iopub.status.busy": "2021-07-28T15:16:22.148974Z",
     "iopub.status.idle": "2021-07-28T15:16:22.162971Z",
     "shell.execute_reply": "2021-07-28T15:16:22.161679Z",
     "shell.execute_reply.started": "2021-07-28T15:16:22.149450Z"
    }
   },
   "outputs": [],
   "source": [
    "baslangic_sirasi = greedy_sira()\n",
    "baslangic_populasyon = populasyonun_olusturulmasi(baslangic_sirasi)\n",
    "baslangic_populasyon_en_iyiler = en_iyi_bireyler(baslangic_populasyon, secilen_birey_sayisi)"
   ]
  },
  {
   "cell_type": "markdown",
   "metadata": {},
   "source": [
    "Her iterasyonda populasyonumuza random olarak ekleyecegimiz bireyleri seciyoruz"
   ]
  },
  {
   "cell_type": "raw",
   "metadata": {
    "execution": {
     "iopub.execute_input": "2021-07-28T15:16:22.164796Z",
     "iopub.status.busy": "2021-07-28T15:16:22.164478Z",
     "iopub.status.idle": "2021-07-28T15:16:22.173912Z",
     "shell.execute_reply": "2021-07-28T15:16:22.172771Z",
     "shell.execute_reply.started": "2021-07-28T15:16:22.164766Z"
    }
   },
   "source": [
    "eklenecek_populasyon = random_populasyon_olusturulmasi()\n",
    "crossover_oncesi_populasyon = np.concatenate((baslangic_populasyon_en_iyiler, eklenecek_populasyon))"
   ]
  },
  {
   "cell_type": "markdown",
   "metadata": {},
   "source": [
    "rulet yontemi ile parentleri belirlenerek yeni bireyler uretilir ve populasyona eklenir"
   ]
  },
  {
   "cell_type": "raw",
   "metadata": {
    "execution": {
     "iopub.execute_input": "2021-07-28T15:16:22.175858Z",
     "iopub.status.busy": "2021-07-28T15:16:22.175290Z",
     "iopub.status.idle": "2021-07-28T15:16:22.279434Z",
     "shell.execute_reply": "2021-07-28T15:16:22.278610Z",
     "shell.execute_reply.started": "2021-07-28T15:16:22.175818Z"
    }
   },
   "source": [
    "yeni_jenerasyon = crossover_oncesi_populasyon\n",
    "for i in range(her_jenerasyonda_yeni_birey_sayisi):\n",
    "    ebeveyn1 = ebeveyn_secimi(crossover_oncesi_populasyon)\n",
    "    ebeveyn2 = ebeveyn_secimi(crossover_oncesi_populasyon)\n",
    "    \n",
    "    yeni_jenerasyon = np.concatenate((yeni_jenerasyon, crossover(ebeveyn1, ebeveyn2, iterasyon)))"
   ]
  },
  {
   "cell_type": "markdown",
   "metadata": {},
   "source": [
    "yeni jenerasyon bireylerin sadece en iyileri sag kalacak sekilde kirpilir "
   ]
  },
  {
   "cell_type": "raw",
   "metadata": {
    "execution": {
     "iopub.execute_input": "2021-07-28T15:16:22.289374Z",
     "iopub.status.busy": "2021-07-28T15:16:22.288803Z",
     "iopub.status.idle": "2021-07-28T15:16:22.303365Z",
     "shell.execute_reply": "2021-07-28T15:16:22.302256Z",
     "shell.execute_reply.started": "2021-07-28T15:16:22.289338Z"
    }
   },
   "source": [
    "yeni_jenerasyon = en_iyi_bireyler(yeni_jenerasyon, secilen_birey_sayisi)"
   ]
  },
  {
   "cell_type": "markdown",
   "metadata": {},
   "source": [
    "yeni_jenerasyondaki_bireyler_mutasyona_ugratilir"
   ]
  },
  {
   "cell_type": "raw",
   "metadata": {
    "execution": {
     "iopub.execute_input": "2021-07-28T15:16:22.305164Z",
     "iopub.status.busy": "2021-07-28T15:16:22.304730Z",
     "iopub.status.idle": "2021-07-28T15:16:22.313618Z",
     "shell.execute_reply": "2021-07-28T15:16:22.312770Z",
     "shell.execute_reply.started": "2021-07-28T15:16:22.305130Z"
    }
   },
   "source": [
    "for i in range(len(yeni_jenerasyon)):\n",
    "    yeni_jenerasyon = np.concatenate((yeni_jenerasyon,mutasyon(yeni_jenerasyon[i], iterasyon)))\n",
    " \n",
    "yeni_jenerasyon = en_iyi_bireyler(yeni_jenerasyon, secilen_birey_sayisi)"
   ]
  },
  {
   "cell_type": "markdown",
   "metadata": {},
   "source": [
    "iterasyon icin fonksiyon"
   ]
  },
  {
   "cell_type": "code",
   "execution_count": 22,
   "metadata": {},
   "outputs": [],
   "source": [
    "def yeni_jenerasyon_olustur(current_jenerasyon, iterasyon):\n",
    "    if iterasyon % 5 == 0:\n",
    "        eklenecek_populasyon = random_greedy_populasyon()\n",
    "    else:\n",
    "        eklenecek_populasyon = random_populasyon_olusturulmasi()\n",
    "    \n",
    "    crossover_oncesi_populasyon = np.concatenate((current_jenerasyon, eklenecek_populasyon))\n",
    "    \n",
    "    yeni_jenerasyon = np.copy(crossover_oncesi_populasyon)\n",
    "    for i in range(her_jenerasyonda_yeni_birey_sayisi):\n",
    "        ebeveyn1 = en_iyi_birey(crossover_oncesi_populasyon)\n",
    "        ebeveyn2 = ebeveyn_secimi(crossover_oncesi_populasyon)\n",
    "\n",
    "        yeni_jenerasyon = np.concatenate((yeni_jenerasyon, crossover(ebeveyn1, ebeveyn2, iterasyon)))\n",
    "        \n",
    "    yeni_jenerasyon = en_iyi_bireyler(yeni_jenerasyon, secilen_birey_sayisi)\n",
    "    \n",
    "    for i in range(len(yeni_jenerasyon)):\n",
    "        yeni_jenerasyon = np.concatenate((yeni_jenerasyon,mutasyon(yeni_jenerasyon[i], iterasyon)))\n",
    " \n",
    "    yeni_jenerasyon = en_iyi_bireyler(yeni_jenerasyon, secilen_birey_sayisi)\n",
    "    \n",
    "    return yeni_jenerasyon"
   ]
  },
  {
   "cell_type": "code",
   "execution_count": 23,
   "metadata": {},
   "outputs": [],
   "source": [
    "current_jenerasyon = baslangic_populasyon_en_iyiler\n",
    "skorlar = np.zeros(1)\n",
    "skorlar[0] = en_iyi_deger(current_jenerasyon)"
   ]
  },
  {
   "cell_type": "code",
   "execution_count": 24,
   "metadata": {},
   "outputs": [],
   "source": [
    "for i in range(1, max_iterasyon):\n",
    "    current_jenerasyon = yeni_jenerasyon_olustur(current_jenerasyon, i)\n",
    "    skorlar = np.append(skorlar, en_iyi_deger(current_jenerasyon))"
   ]
  },
  {
   "cell_type": "code",
   "execution_count": 25,
   "metadata": {},
   "outputs": [
    {
     "data": {
      "text/plain": [
       "[<matplotlib.lines.Line2D at 0x1a666f29588>]"
      ]
     },
     "execution_count": 25,
     "metadata": {},
     "output_type": "execute_result"
    },
    {
     "data": {
      "image/png": "[encoded data removed]",
      "text/plain": [
       "<Figure size 432x288 with 1 Axes>"
      ]
     },
     "metadata": {
      "needs_background": "light"
     },
     "output_type": "display_data"
    }
   ],
   "source": [
    "plt.plot(skorlar)"
   ]
  },
  {
   "cell_type": "code",
   "execution_count": null,
   "metadata": {},
   "outputs": [],
   "source": []
  }
 ],
 "metadata": {
  "kernelspec": {
   "display_name": "Python 3",
   "language": "python",
   "name": "python3"
  },
  "language_info": {
   "codemirror_mode": {
    "name": "ipython",
    "version": 3
   },
   "file_extension": ".py",
   "mimetype": "text/x-python",
   "name": "python",
   "nbconvert_exporter": "python",
   "pygments_lexer": "ipython3",
   "version": "3.7.6"
  }
 },
 "nbformat": 4,
 "nbformat_minor": 4
}
